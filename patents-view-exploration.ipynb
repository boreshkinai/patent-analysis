{
 "cells": [
  {
   "cell_type": "code",
   "execution_count": null,
   "metadata": {},
   "outputs": [],
   "source": [
    "import pandas as pd\n",
    "import numpy as np\n",
    "import matplotlib.pyplot as plt\n",
    "from keras.utils import get_file\n",
    "\n",
    "DATA_PATH = './data/patents-view/datasets/'\n",
    "CACHE_DIR = './data/patents-view/'\n",
    "DATA_TIMESTAMP='20171226'\n",
    "ROOT_URL = 'http://www.patentsview.org/data/' + DATA_TIMESTAMP + '/'"
   ]
  },
  {
   "cell_type": "code",
   "execution_count": null,
   "metadata": {},
   "outputs": [],
   "source": [
    "import sys\n",
    "sys.path.append(\"../..\")\n",
    "from util.text_utils import remove_whitespace"
   ]
  },
  {
   "cell_type": "code",
   "execution_count": null,
   "metadata": {},
   "outputs": [],
   "source": [
    "get_file('patent.tsv.zip', origin=ROOT_URL+'patent.tsv.zip', cache_dir=CACHE_DIR)\n",
    "patent_feed = pd.read_csv(DATA_PATH+'patent.tsv.zip', sep='\\t', error_bad_lines=False, dtype=str) #,\n",
    "                        # dtype={'id': str})\n",
    "patent_feed"
   ]
  },
  {
   "cell_type": "code",
   "execution_count": null,
   "metadata": {},
   "outputs": [],
   "source": [
    "get_file('ipcr.tsv.zip', origin=ROOT_URL+'ipcr.tsv.zip', cache_dir=CACHE_DIR)\n",
    "ipcr_feed = pd.read_csv(DATA_PATH+'ipcr.tsv.zip', sep='\\t', error_bad_lines=False, dtype=str) # , dtype={'patent_id': str})\n",
    "ipcr_feed.head()"
   ]
  },
  {
   "cell_type": "code",
   "execution_count": null,
   "metadata": {},
   "outputs": [],
   "source": [
    "get_file('uspatentcitation.tsv.zip', origin=ROOT_URL+'uspatentcitation.tsv.zip', cache_dir=CACHE_DIR)\n",
    "uspatentcitation_feed = pd.read_csv(DATA_PATH+'uspatentcitation.tsv.zip', sep='\\t', error_bad_lines=False, dtype=str) # , dtype={'patent_id': str})\n",
    "uspatentcitation_feed.dropna(subset=['citation_id'], inplace=True)\n",
    "uspatentcitation_feed.head()"
   ]
  },
  {
   "cell_type": "code",
   "execution_count": null,
   "metadata": {},
   "outputs": [],
   "source": [
    "set(patent_feed.id.unique())\n",
    "set(ipcr_feed.patent_id.unique())\n",
    "print(\"The intersection between patent feed and ipc feed: \", \\\n",
    "      len(set.intersection(set(ipcr_feed.patent_id.unique()), set(patent_feed.id.unique()))))"
   ]
  },
  {
   "cell_type": "code",
   "execution_count": null,
   "metadata": {},
   "outputs": [],
   "source": [
    "def get_vaild_ipc_section(df):\n",
    "    valid_section_symbol_list = ['A', 'B', 'C', 'D', 'E', 'F', 'G', 'H', 'Y']\n",
    "    section = df.section\n",
    "    valid_section = df.section.isin(valid_section_symbol_list)\n",
    "    section[~valid_section] = np.nan\n",
    "    return section \n",
    "\n",
    "\n",
    "def get_vaild_ipc_class(df):\n",
    "    ipc_class_int = pd.DataFrame(pd.to_numeric(ipcr_feed.ipc_class, errors='coerce')).fillna(0.0).astype(np.int64)\n",
    "    ipc_class_int[ipc_class_int > 99] = 0\n",
    "    ipc_class_int = ipc_class_int.astype(str)\n",
    "    ipc_class_int.ipc_class[ipc_class_int.ipc_class=='0'] = np.nan\n",
    "    return ipc_class_int.ipc_class\n",
    "\n",
    "\n",
    "def get_vaild_ipc_subclass(df):\n",
    "    valid_subclass_symbol_list = list(map(chr, range(65, 91)))\n",
    "    subclass = ipcr_feed.subclass.apply(remove_whitespace)\n",
    "    valid_subclass = df.subclass.isin(valid_subclass_symbol_list)\n",
    "    subclass[~valid_subclass] = np.nan\n",
    "    return subclass\n",
    "\n",
    "\n",
    "def clean_ipcr_feed(ipcr_feed):\n",
    "    \n",
    "    ipcr_feed.section = get_vaild_ipc_section(ipcr_feed)\n",
    "    ipcr_feed.ipc_class = get_vaild_ipc_class(ipcr_feed)\n",
    "    ipcr_feed.subclass = get_vaild_ipc_subclass(ipcr_feed)\n",
    "    \n",
    "    ipcr_feed['ipc4digit'] = ipcr_feed.section + ipcr_feed.ipc_class.astype(str).str.rjust(2,\"0\") + ipcr_feed.subclass\n",
    "\n",
    "    print('IPCR feed: the number of invalid section symbols is ', sum(ipcr_feed.section.isnull()))\n",
    "    print('IPCR feed: the number of invalid ipc_class symbols is ', sum(ipcr_feed.ipc_class.isnull()))\n",
    "    print('IPCR feed: the number of invalid subclass symbols is ', sum(ipcr_feed.subclass.isnull()))\n",
    "    print('IPCR feed: the number of invalid 4-digit ipc codes ', sum(ipcr_feed.ipc4digit.isnull()))\n",
    "    \n",
    "    return ipcr_feed"
   ]
  },
  {
   "cell_type": "code",
   "execution_count": null,
   "metadata": {},
   "outputs": [],
   "source": [
    "ipcr_feed = clean_ipcr_feed(ipcr_feed)"
   ]
  },
  {
   "cell_type": "markdown",
   "metadata": {},
   "source": [
    "### Joining patent feed and the IPC feed"
   ]
  },
  {
   "cell_type": "code",
   "execution_count": null,
   "metadata": {},
   "outputs": [],
   "source": [
    "fused_feed = patent_feed.join(ipcr_feed[['patent_id', 'ipc4digit']].set_index('patent_id'), on='id')\n",
    "fused_feed"
   ]
  },
  {
   "cell_type": "code",
   "execution_count": null,
   "metadata": {},
   "outputs": [],
   "source": [
    "sum(~fused_feed.ipc4digit.isnull())"
   ]
  },
  {
   "cell_type": "code",
   "execution_count": null,
   "metadata": {},
   "outputs": [],
   "source": [
    "fused_feed.date = pd.to_datetime(fused_feed.date, format='%Y-%m-%d', errors='coerce')\n",
    "fused_feed['quantity'] = 1"
   ]
  },
  {
   "cell_type": "code",
   "execution_count": null,
   "metadata": {},
   "outputs": [],
   "source": [
    "patents_count_by_kind = fused_feed[['date', 'kind', 'quantity']].groupby(['date', 'kind']).sum()\n",
    "patents_count_by_kind = patents_count_by_kind.unstack(level=1).resample('M').sum()\n",
    "\n",
    "patents_count_by_kind.plot(figsize=(20,10))"
   ]
  },
  {
   "cell_type": "code",
   "execution_count": null,
   "metadata": {},
   "outputs": [],
   "source": [
    "top10ipc4 = list(fused_feed.groupby(['ipc4digit'])['quantity'].sum().sort_values()[-10:].index)\n",
    "print(\"Top ipc4: \", top10ipc4)\n",
    "\n",
    "patents_count_by_ipc4 = fused_feed[['date', 'ipc4digit', 'quantity']].groupby(['ipc4digit', 'date']).sum()\n",
    "patents_count_by_ipc4 = patents_count_by_ipc4.loc[top10ipc4]\n",
    "patents_count_by_ipc4 = patents_count_by_ipc4.unstack(level=0).resample('M').sum()\n",
    "\n",
    "patents_count_by_ipc4.plot(figsize=(20,10))"
   ]
  },
  {
   "cell_type": "code",
   "execution_count": null,
   "metadata": {},
   "outputs": [],
   "source": [
    "patents_count_tot = fused_feed[['date', 'quantity']].groupby(['date']).sum()\n",
    "patents_count_tot = patents_count_tot.resample('M').sum()\n",
    "\n",
    "patents_count_tot.plot(figsize=(20,10))"
   ]
  },
  {
   "cell_type": "markdown",
   "metadata": {},
   "source": [
    "### Distribution over IPC categories"
   ]
  },
  {
   "cell_type": "code",
   "execution_count": null,
   "metadata": {},
   "outputs": [],
   "source": [
    "patents_by_ipc4 = fused_feed.reset_index(drop=True)[['ipc4digit', 'quantity']].groupby('ipc4digit').sum()\n",
    "patents_by_ipc4.sort_values(by='quantity', ascending=False, inplace=True)\n",
    "\n",
    "ax1 = patents_by_ipc4.plot(kind='line', use_index=False, logy=True, figsize=(20, 5))\n",
    "ax1.set_title(\"Distribution of the total patent quantity by IPC4\")\n",
    "ax1.set_xlabel(r'IPC4 code ordered by quantity')\n",
    "ax1.set_ylabel('Total Quantity, log scale')\n",
    "\n",
    "plt.show()"
   ]
  },
  {
   "cell_type": "code",
   "execution_count": null,
   "metadata": {},
   "outputs": [],
   "source": [
    "# sum(patents_by_ipc4[:1000].astype(np.int64)) / sum(patents_by_ipc4.astype(np.int64))\n",
    "num_categories_cutoff = 1000\n",
    "print(num_categories_cutoff, \"out of\", len(patents_by_ipc4),\n",
    "      \" ipc4 categories account for %2.2f%% patents\" \n",
    "      %(100*sum(patents_by_ipc4[:1000].quantity) / sum(patents_by_ipc4.quantity)))"
   ]
  },
  {
   "cell_type": "markdown",
   "metadata": {},
   "source": [
    "### Citation analysis"
   ]
  },
  {
   "cell_type": "code",
   "execution_count": null,
   "metadata": {},
   "outputs": [],
   "source": [
    "# fused_feed.date = pd.to_datetime(fused_feed.date, format='%Y-%m-%d', errors='coerce')\n",
    "def get_vaild_citation_id(df):\n",
    "    # uppercase, remove all but numbers and AIXHTREPD\n",
    "    citation_id = df.citation_id.str.upper().replace(\"[^AIXHTREPD0-9]\", value='', regex=True) # .apply(remove_whitespace)\n",
    "    # remove leading zeros\n",
    "    citation_id = citation_id.replace(\"^0+\", value='', regex=True)\n",
    "    return citation_id\n",
    "\n",
    "\n",
    "uspatentcitation_feed.citation_id = get_vaild_citation_id(uspatentcitation_feed)\n",
    "\n",
    "print(\"Number of unique cited patents\", len(uspatentcitation_feed.citation_id.unique()))\n",
    "print(\"Number of unique citing patents\", len(uspatentcitation_feed.patent_id.unique()))"
   ]
  },
  {
   "cell_type": "code",
   "execution_count": null,
   "metadata": {},
   "outputs": [],
   "source": [
    "uspatentcitation_feed[\"citation_count\"] = 1\n",
    "uspatentcitation_bypatent = uspatentcitation_feed[['citation_id', 'citation_count']].groupby('citation_id').count() \\\n",
    "    .sort_values(by='citation_count', ascending=False)"
   ]
  },
  {
   "cell_type": "code",
   "execution_count": null,
   "metadata": {},
   "outputs": [],
   "source": [
    "ax1 = uspatentcitation_bypatent.plot(kind='line', use_index=False, logy=True, figsize=(20, 5))\n",
    "ax1.set_title(\"Distribution of the number of citations by patent\")\n",
    "ax1.set_xlabel(r'Patent ordered by the number of citations')\n",
    "ax1.set_ylabel('Number of citations, log scale')\n",
    "\n",
    "plt.show()"
   ]
  },
  {
   "cell_type": "code",
   "execution_count": null,
   "metadata": {},
   "outputs": [],
   "source": [
    "uspatentcitation_bypatent"
   ]
  },
  {
   "cell_type": "code",
   "execution_count": null,
   "metadata": {},
   "outputs": [],
   "source": [
    "uspatentcitation_bypatent[:10]\n",
    "# Request that can be used to obtain the number of citations for a given patent\n",
    "# http://www.patentsview.org/api/patents/query?q={%22_and%22:[{%22patent_number%22:%227674650%22}]}&f=[%22patent_num_cited_by_us_patents%22]"
   ]
  },
  {
   "cell_type": "code",
   "execution_count": null,
   "metadata": {},
   "outputs": [],
   "source": [
    "fused_feed = fused_feed.join(uspatentcitation_bypatent, on='id')"
   ]
  },
  {
   "cell_type": "code",
   "execution_count": null,
   "metadata": {},
   "outputs": [],
   "source": [
    "fused_feed[fused_feed.citation_count.isnull()]"
   ]
  },
  {
   "cell_type": "code",
   "execution_count": null,
   "metadata": {},
   "outputs": [],
   "source": [
    "uspatentcitation_bypatent.loc['RE46649']"
   ]
  },
  {
   "cell_type": "code",
   "execution_count": null,
   "metadata": {},
   "outputs": [],
   "source": [
    "sum(uspatentcitation_feed['citation_id'].str.contains(\".*4683202.*\", regex=True))"
   ]
  },
  {
   "cell_type": "code",
   "execution_count": null,
   "metadata": {},
   "outputs": [],
   "source": [
    "sum(uspatentcitation_feed['patent_id'].str.contains(\".*4683202.*\", regex=True))"
   ]
  },
  {
   "cell_type": "code",
   "execution_count": null,
   "metadata": {},
   "outputs": [],
   "source": [
    "len(uspatentcitation_feed['citation_id'].unique())"
   ]
  },
  {
   "cell_type": "code",
   "execution_count": null,
   "metadata": {},
   "outputs": [],
   "source": [
    "sum(citation_id.str.contains(\".*7674650.*\", regex=True))"
   ]
  },
  {
   "cell_type": "code",
   "execution_count": null,
   "metadata": {},
   "outputs": [],
   "source": [
    "sum(citation_id.str.contains(\"7674650\", regex=False))"
   ]
  },
  {
   "cell_type": "code",
   "execution_count": null,
   "metadata": {},
   "outputs": [],
   "source": [
    "brf_sum_text_feed = pd.read_csv(DATA_PATH+'brf_sum_text.zip', sep='\\t', encoding=\"ISO-8859-1\", nrows=10)\n",
    "brf_sum_text_feed"
   ]
  },
  {
   "cell_type": "code",
   "execution_count": null,
   "metadata": {},
   "outputs": [],
   "source": [
    "brf_sum_text_feed['text'][2]"
   ]
  },
  {
   "cell_type": "code",
   "execution_count": null,
   "metadata": {},
   "outputs": [],
   "source": [
    "claim_feed = pd.read_csv(DATA_PATH+'claim.zip', sep='\\t', encoding=\"ISO-8859-1\", nrows=10)\n",
    "claim_feed"
   ]
  },
  {
   "cell_type": "code",
   "execution_count": null,
   "metadata": {},
   "outputs": [],
   "source": [
    "claim_feed['text'][0]"
   ]
  },
  {
   "cell_type": "code",
   "execution_count": null,
   "metadata": {},
   "outputs": [],
   "source": []
  },
  {
   "cell_type": "code",
   "execution_count": null,
   "metadata": {},
   "outputs": [],
   "source": []
  }
 ],
 "metadata": {
  "kernelspec": {
   "display_name": "Python 3",
   "language": "python",
   "name": "python3"
  },
  "language_info": {
   "codemirror_mode": {
    "name": "ipython",
    "version": 3
   },
   "file_extension": ".py",
   "mimetype": "text/x-python",
   "name": "python",
   "nbconvert_exporter": "python",
   "pygments_lexer": "ipython3",
   "version": "3.6.5"
  }
 },
 "nbformat": 4,
 "nbformat_minor": 2
}
